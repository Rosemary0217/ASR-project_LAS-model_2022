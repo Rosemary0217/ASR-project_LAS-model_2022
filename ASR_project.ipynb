{
  "nbformat": 4,
  "nbformat_minor": 0,
  "metadata": {
    "colab": {
      "provenance": []
    },
    "kernelspec": {
      "name": "python3",
      "display_name": "Python 3"
    },
    "language_info": {
      "name": "python"
    },
    "gpuClass": "standard",
    "accelerator": "GPU"
  },
  "cells": [
    {
      "cell_type": "code",
      "source": [
        "import numpy as np\n",
        "import torch\n",
        "import torch.nn as nn\n",
        "import torchaudio\n",
        "from torch.utils.data import Dataset\n",
        "from torch.nn.utils.rnn import pad_sequence, pack_padded_sequence, pad_packed_sequence\n",
        "import torch.nn.utils as utils\n",
        "from torch.nn.functional import softmax\n",
        "from torch import bmm\n",
        "import random\n",
        "from matplotlib.lines import Line2D\n",
        "import matplotlib.pyplot as plt\n",
        "import matplotlib.ticker as ticker\n",
        "import seaborn as sns\n",
        "import time\n",
        "import numpy as np\n",
        "import sys\n",
        "import torch.optim as optim\n",
        "import os\n",
        "import pandas as pd\n",
        "import time\n",
        "from torch.utils.data import DataLoader"
      ],
      "metadata": {
        "id": "GEMYn_X9IFbG"
      },
      "execution_count": null,
      "outputs": []
    },
    {
      "cell_type": "code",
      "source": [
        "from google.colab import drive\n",
        "drive.mount('/content/drive')"
      ],
      "metadata": {
        "colab": {
          "base_uri": "https://localhost:8080/"
        },
        "id": "kDBPVbATfJnC",
        "outputId": "c97db851-bd4e-4c7f-f70f-ad11b2f13cda"
      },
      "execution_count": null,
      "outputs": [
        {
          "output_type": "stream",
          "name": "stdout",
          "text": [
            "Mounted at /content/drive\n"
          ]
        }
      ]
    },
    {
      "cell_type": "code",
      "source": [
        "import shutil\n",
        "\n",
        "os.system('mkdir ./data')\n",
        "os.system('mkdir ./checkpoint')\n",
        "os.system('mkdir ./attention')\n",
        "if not os.path.exists('./drive/MyDrive/datasets/11-785-s20-hw4p2.zip'):\n",
        "    print('zip doesn\\'t exist')\n",
        "else:\n",
        "    os.system('cp ./drive/MyDrive/datasets/11-785-s20-hw4p2.zip ./data/')\n",
        "    os.system('unzip ./data/11-785-s20-hw4p2.zip')\n",
        "    os.system('mv ./dev_new.npy ./data/')\n",
        "    os.system('mv ./dev_transcripts.npy ./data/')\n",
        "    os.system('mv ./test_new.npy ./data/')\n",
        "    os.system('mv ./test_sample_submission.csv ./data/')\n",
        "    os.system('mv ./train_new.npy ./data/')\n",
        "    os.system('mv ./train_transcripts.npy ./data/')"
      ],
      "metadata": {
        "id": "qonftjkWHUGi"
      },
      "execution_count": null,
      "outputs": []
    },
    {
      "cell_type": "code",
      "source": [
        "DEVICE = 'cuda' if torch.cuda.is_available() else 'cpu'\n",
        "DEVICE"
      ],
      "metadata": {
        "id": "BBmhFAFcHWNk",
        "colab": {
          "base_uri": "https://localhost:8080/",
          "height": 36
        },
        "outputId": "9d013155-6ced-47a9-84a0-5f961f87c9e7"
      },
      "execution_count": null,
      "outputs": [
        {
          "output_type": "execute_result",
          "data": {
            "text/plain": [
              "'cuda'"
            ],
            "application/vnd.google.colaboratory.intrinsic+json": {
              "type": "string"
            }
          },
          "metadata": {},
          "execution_count": 4
        }
      ]
    },
    {
      "cell_type": "markdown",
      "source": [
        "# 1 数据预处理"
      ],
      "metadata": {
        "id": "p3FPmMrrHun0"
      }
    },
    {
      "cell_type": "markdown",
      "source": [
        "## 1.1 构建词典\n",
        "全局常量LETTER_LIST包含了输出序列中所有可能出现的字母与符号。create_dictionaries()函数返回两个字典letter2index和index2letter，前者可以通过符号索引它在LETTER_LIST中的位置，在数据预处理中会用到；后者与LETTER_LIST相同。"
      ],
      "metadata": {
        "id": "aEULo3vWbMsk"
      }
    },
    {
      "cell_type": "code",
      "source": [
        "LETTER_LIST = ['<pad>', 'A', 'B', 'C', 'D', 'E', 'F', 'G', 'H', 'I', 'J', 'K', 'L', 'M', 'N', 'O', 'P', 'Q', \\\n",
        "               'R', 'S', 'T', 'U', 'V', 'W', 'X', 'Y', 'Z', '-', \"'\", '.', '_', '+', ' ','<sos>','<eos>']"
      ],
      "metadata": {
        "id": "cNDBku8NHxiD"
      },
      "execution_count": null,
      "outputs": []
    },
    {
      "cell_type": "code",
      "source": [
        "'''\n",
        "Optional, create dictionaries for letter2index and index2letter transformations\n",
        "'''\n",
        "def create_dictionaries(letter_list):\n",
        "    length = len(letter_list)\n",
        "    letter2index = {letter_list[i]:i for i in range(length)}\n",
        "    index2letter = {i:letter_list[i] for i in range(length)}  # 深拷贝\n",
        "    return letter2index, index2letter\n",
        "\n",
        "letter2index, index2letter = create_dictionaries(LETTER_LIST)"
      ],
      "metadata": {
        "id": "UNjRk0P0KNV2"
      },
      "execution_count": null,
      "outputs": []
    },
    {
      "cell_type": "markdown",
      "source": [
        "## 1.2 读取数据集\n",
        "load_data()函数用于从数据集中读取.npy文件并以np.array的格式返回。这个函数由[CMU 11-785 recitation](https://www.youtube.com/watch?v=02MjLlTuF3U&list=PLp-0K3kfddPwEwFEWePq10blIIneuP8ox&index=12)提供。"
      ],
      "metadata": {
        "id": "s1j-4dL1cMAf"
      }
    },
    {
      "cell_type": "code",
      "source": [
        "'''\n",
        "Loading all the numpy files containing the utterance information and text information\n",
        "'''\n",
        "def load_data(dataDir='./data/'):\n",
        "    speech_train = np.load(dataDir+\"train_new.npy\", allow_pickle=True, encoding='bytes')\n",
        "    speech_dev = np.load(dataDir+\"dev_new.npy\", allow_pickle=True, encoding='bytes')\n",
        "    speech_test = np.load(dataDir+\"test_new.npy\", allow_pickle=True, encoding='bytes')\n",
        "\n",
        "    transcript_train = np.load(dataDir+\"train_transcripts.npy\", allow_pickle=True, encoding='bytes')\n",
        "    transcript_dev = np.load(dataDir+\"dev_transcripts.npy\", allow_pickle=True, encoding='bytes')\n",
        "\n",
        "    return speech_train, transcript_train, speech_dev, transcript_dev, speech_test"
      ],
      "metadata": {
        "id": "Ip-uMl-JKRZR"
      },
      "execution_count": null,
      "outputs": []
    },
    {
      "cell_type": "code",
      "source": [
        "# 调用load_data()，得到训练数据\n",
        "speech_train, transcript_train, speech_dev, transcript_dev, speech_test = load_data()"
      ],
      "metadata": {
        "id": "XXAyjjeANReo"
      },
      "execution_count": null,
      "outputs": []
    },
    {
      "cell_type": "markdown",
      "source": [
        "我们可以查看数据集大小及其中一条数据的内容："
      ],
      "metadata": {
        "id": "cowee8CXkB5m"
      }
    },
    {
      "cell_type": "code",
      "source": [
        "print('Training set size:{}, {}'.format(speech_train.shape, transcript_train.shape))\n",
        "print('Development set size:{}, {}'.format(speech_dev.shape, transcript_dev.shape))\n",
        "print('Test set size:{}'.format(speech_test.shape))"
      ],
      "metadata": {
        "colab": {
          "base_uri": "https://localhost:8080/"
        },
        "id": "eHLKZB7YMhgC",
        "outputId": "bda45fa2-8f48-44d8-e493-6576b6083b97"
      },
      "execution_count": null,
      "outputs": [
        {
          "output_type": "stream",
          "name": "stdout",
          "text": [
            "Training set size:(24724,), (24724,)\n",
            "Development set size:(1106,), (1106,)\n",
            "Test set size:(523,)\n"
          ]
        }
      ]
    },
    {
      "cell_type": "code",
      "source": [
        "speech_train[0], transcript_train[0]  # b stands for numpy.bytes_"
      ],
      "metadata": {
        "id": "KUvYGxUbZIz2",
        "colab": {
          "base_uri": "https://localhost:8080/"
        },
        "outputId": "13aab779-ef8b-499d-8e2a-a5b04ac2344a"
      },
      "execution_count": null,
      "outputs": [
        {
          "output_type": "execute_result",
          "data": {
            "text/plain": [
              "(array([[-4.5242844, -5.708006 , -7.4425936, ..., -8.267208 , -3.5986276,\n",
              "         -8.46898  ],\n",
              "        [-4.960453 , -5.7416215, -7.937359 , ..., -8.147214 , -4.614257 ,\n",
              "         -7.7562113],\n",
              "        [-5.3406754, -5.157624 , -8.336189 , ..., -7.606736 , -5.0494947,\n",
              "         -7.9340124],\n",
              "        ...,\n",
              "        [-5.2470493, -5.99119  , -4.6648097, ..., -5.8244734, -3.8987803,\n",
              "         -5.8652916],\n",
              "        [-6.0679326, -5.1122055, -5.5143185, ..., -6.347003 , -4.585992 ,\n",
              "         -8.402996 ],\n",
              "        [-6.1676664, -5.1596828, -6.365869 , ..., -6.225582 , -4.6173177,\n",
              "         -7.6886425]], dtype=float32),\n",
              " array([b'THE', b'FEMALE', b'PRODUCES', b'A', b'LITTER', b'OF', b'TWO',\n",
              "        b'TO', b'FOUR', b'YOUNG', b'IN', b'NOVEMBER', b'AND', b'DECEMBER'],\n",
              "       dtype='|S8'))"
            ]
          },
          "metadata": {},
          "execution_count": 10
        }
      ]
    },
    {
      "cell_type": "markdown",
      "source": [
        "## 1.3 转换数据\n",
        "由于LETTER_LIST中\\<sos\\>、\\<eos\\>过长，为便于训练，使用transform_letter_to_index()函数将训练集和验证集中的文字转换为int类型的列表。"
      ],
      "metadata": {
        "id": "of-cLx9qLZZ8"
      }
    },
    {
      "cell_type": "code",
      "source": [
        "def transform_letter_to_index(transcript):\n",
        "    '''\n",
        "    :param transcript :(N, ) Transcripts are the text input\n",
        "    :param letter_list: Letter list defined above\n",
        "    :return letter_to_index_list: Returns a list for all the transcript sentence to index\n",
        "    '''\n",
        "    letter_to_index_list = []\n",
        "    for sentence in transcript:\n",
        "        idxs = [letter2index['<sos>']]\n",
        "        for word in sentence:\n",
        "            word_str = word.decode('utf-8')  # 从字节编码转换为string\n",
        "            for ch in word_str:\n",
        "                idxs.append(letter2index[ch])\n",
        "            idxs.append(letter2index[' ']) # 每两个词之间有空格\n",
        "        idxs.pop()\n",
        "        idxs.append(letter2index['<eos>']) # 处理完一个句子\n",
        "        letter_to_index_list.append(idxs)\n",
        "    return letter_to_index_list"
      ],
      "metadata": {
        "id": "5ngF97EZKVvC"
      },
      "execution_count": null,
      "outputs": []
    },
    {
      "cell_type": "markdown",
      "source": [
        "由于训练的时候transcript使用数字表示，在输出的时候应该将其转化回字母和符号。使用transform_index_to_letter()函数实现了这一转换。"
      ],
      "metadata": {
        "id": "-K7DWMhed-qI"
      }
    },
    {
      "cell_type": "code",
      "source": [
        "def transform_index_to_letter(index):\n",
        "    index_to_letter_list = []\n",
        "    for r in index:\n",
        "        letters = \"\"\n",
        "        for i in r:\n",
        "            if index2letter[i] == '<eos>' or index2letter[i] == '<pad>':\n",
        "                break\n",
        "            else:\n",
        "                letters += index2letter[i]\n",
        "        index_to_letter_list.append(letters)\n",
        "    return index_to_letter_list"
      ],
      "metadata": {
        "id": "QB6Qt3O_Kdpx"
      },
      "execution_count": null,
      "outputs": []
    },
    {
      "cell_type": "markdown",
      "source": [
        "调用transform_letter_to_index()函数，将数据集转化成要输入的形式："
      ],
      "metadata": {
        "id": "X9kY4NncNi-k"
      }
    },
    {
      "cell_type": "code",
      "source": [
        "text_train_idxs = transform_letter_to_index(transcript_train)\n",
        "text_dev_idxs = transform_letter_to_index(transcript_dev)"
      ],
      "metadata": {
        "id": "OZItPWAfNVtS"
      },
      "execution_count": null,
      "outputs": []
    },
    {
      "cell_type": "markdown",
      "source": [
        "## 1.4 数据集类\n",
        "Speech2TextDataset类继承自torch.utils.data.Dataset类，通过重写\\_\\_getitem\\_\\_()方法，允许通过下标直接获得训练数据及其标签（如果有的话）。"
      ],
      "metadata": {
        "id": "5BTpjYzMewB4"
      }
    },
    {
      "cell_type": "code",
      "source": [
        "class Speech2TextDataset(Dataset):\n",
        "    '''\n",
        "    Dataset class for the speech to text data, this may need some tweaking in the\n",
        "    getitem method as your implementation in the collate function may be different from\n",
        "    ours.\n",
        "    '''\n",
        "    def __init__(self, speech, text, isTrain=True):\n",
        "        self.dataX = speech\n",
        "        self.dataY = text\n",
        "        self.isTrain = isTrain\n",
        "\n",
        "    def __len__(self):\n",
        "        return self.dataX.shape[0]\n",
        "\n",
        "    def __getitem__(self, index):\n",
        "        if self.isTrain:  # 训练集包括数据和label\n",
        "            return torch.tensor(self.dataX[index].astype(np.float32)), torch.tensor(self.dataY[index])\n",
        "        else:  # 测试集只有数据，没有label\n",
        "            return torch.tensor(self.dataX[index].astype(np.float32))"
      ],
      "metadata": {
        "id": "QSGntqZkKf2G"
      },
      "execution_count": null,
      "outputs": []
    },
    {
      "cell_type": "code",
      "source": [
        "train_dataset = Speech2TextDataset(speech_train, text_train_idxs, isTrain=True)\n",
        "dev_dataset = Speech2TextDataset(speech_dev, text_dev_idxs, isTrain=True)\n",
        "test_dataset = Speech2TextDataset(speech_test, text=None, isTrain=False)"
      ],
      "metadata": {
        "id": "Tyadm8KpNYTa"
      },
      "execution_count": null,
      "outputs": []
    },
    {
      "cell_type": "markdown",
      "source": [
        "## 1.5 数据对齐"
      ],
      "metadata": {
        "id": "RI1fENWkfWa_"
      }
    },
    {
      "cell_type": "code",
      "source": [
        "def collate_train(batch):\n",
        "    ### Return the padded speech and text data, and the length of utterance and transcript ###\n",
        "    padded_inputs, input_lens = [], []\n",
        "    padded_targets, target_lens = [], []\n",
        "    l = len(batch)\n",
        "    for i in range(l):\n",
        "        padded_inputs.append(torch.tensor(batch[i][0]))\n",
        "        padded_targets.append(torch.tensor(batch[i][1][1:])) # 不取<sos>\n",
        "        input_lens.append(len(batch[i][0]))\n",
        "        target_lens.append(len(batch[i][1])-1) #  sentence <eos>\n",
        "    padded_inputs = pad_sequence(padded_inputs, batch_first=True) # dim (B, T, C) since batch_first is true, (T, B, C) if false\n",
        "    padded_targets = pad_sequence(padded_targets, batch_first=True)\n",
        "    return padded_inputs, padded_targets, torch.tensor(input_lens), torch.tensor(target_lens)\n",
        "\n",
        "def collate_test(batch):\n",
        "    ### Return padded speech and length of utterance ###\n",
        "    padded_inputs, input_lens = [], []\n",
        "    l = len(batch)\n",
        "    for b in range(l):\n",
        "        padded_inputs.append(torch.tensor(batch[b]))\n",
        "        input_lens.append(len(batch[b]))\n",
        "    padded_inputs = pad_sequence(padded_inputs, batch_first=True)\n",
        "    return padded_inputs, torch.tensor(input_lens)"
      ],
      "metadata": {
        "id": "T70qEK-LKmMI"
      },
      "execution_count": null,
      "outputs": []
    },
    {
      "cell_type": "markdown",
      "source": [
        "## 1.6 获取DataLoader\n",
        "torch.nn.data.DataLoader类返回数据迭代器。参数collate_fn将一系列样本合并并返回小批量tensor。"
      ],
      "metadata": {
        "id": "S5XWMyWKlpec"
      }
    },
    {
      "cell_type": "code",
      "source": [
        "BATCH_SIZE = 64 if DEVICE=='cuda' else 1\n",
        "\n",
        "train_loader = DataLoader(train_dataset, batch_size=BATCH_SIZE, shuffle=True, collate_fn=collate_train) # 训练集，387个batch\n",
        "dev_loader = DataLoader(dev_dataset, batch_size=BATCH_SIZE, shuffle=False, collate_fn=collate_train) # 验证集，18个batch\n",
        "test_loader = DataLoader(test_dataset, batch_size=BATCH_SIZE, shuffle=False, collate_fn=collate_test) # 测试集，9个batch"
      ],
      "metadata": {
        "id": "hEVbevlQlxkj"
      },
      "execution_count": null,
      "outputs": []
    },
    {
      "cell_type": "markdown",
      "source": [
        "# 2 模型\n",
        "模型由五个类组成，分别是Attention，Encoder，Decoder，PBLSTM, LAS，其中LAS为包装类。部分代码框架由recitation给出，实现过程中保留了相关英文注释。"
      ],
      "metadata": {
        "id": "VrbUEje8H1_M"
      }
    },
    {
      "cell_type": "markdown",
      "source": [
        "注意力机制"
      ],
      "metadata": {
        "id": "YQQ4m056QZ8W"
      }
    },
    {
      "cell_type": "code",
      "source": [
        "class Attention(nn.Module):\n",
        "    '''\n",
        "    Attention is calculated using key, value and query from Encoder and decoder.\n",
        "    Below are the set of operations you need to perform for computing attention:\n",
        "        energy = bmm(key, query)\n",
        "        attention = softmax(energy)\n",
        "        context = bmm(attention, value)\n",
        "    '''\n",
        "    def __init__(self):\n",
        "        super(Attention, self).__init__()\n",
        "\n",
        "    def forward(self, query, key, value, lens):\n",
        "        '''\n",
        "        :param query :(N, context_size) Query is the output of LSTMCell from Decoder\n",
        "        :param key: (N, T_max, key_size) Key Projection from Encoder per time step\n",
        "        :param value: (N, T_max, value_size) Value Projection from Encoder per time step\n",
        "        :param lens: (N, T) Length of key and value, used for binary masking\n",
        "        :return output: Attended Context\n",
        "        :return attention: Attention mask that can be plotted\n",
        "        '''\n",
        "        # binary masking for padded positions\n",
        "        mask = torch.arange(key.size(1)).unsqueeze(0) >= lens.unsqueeze(1) # (1, T_max) >= (B, 1) -> (N, T_max)\n",
        "        mask = mask.to(DEVICE)\n",
        "\n",
        "        # print(\"key_size:{}\".format(key.size()))  # torch.Size([64, 256, 128])\n",
        "        # print(\"query_size:{}\".format(query.size()))  # torch.Size([64, 128])\n",
        "        # batch matrix multiplication\n",
        "        energy = bmm(key, query.unsqueeze(2)) # (batch, T_max, key_size) * (batch, context_size, 1) = (batch, T_max, 1)\n",
        "        energy = energy.squeeze(2)  # (N, T_max)\n",
        "        # print('energy_size:{}'.format(energy.size()))  # torch.Size([64, 256])\n",
        "        energy.masked_fill_(mask, -1e9) # (N, T_max)\n",
        "        attention = softmax(energy, dim=1) # (N, T_max)\n",
        "        # print('attention_size:{}'.format(attention.size()))    # torch.Size([64, 256])\n",
        "        context = bmm(attention.unsqueeze(1), value).squeeze(1) # (N, T_max)\n",
        "\n",
        "        return context, attention"
      ],
      "metadata": {
        "id": "raCRp7NoH1vh"
      },
      "execution_count": null,
      "outputs": []
    },
    {
      "cell_type": "markdown",
      "source": [
        "pBLSTM结构是模型Encoder部分的核心。它的物理结构是一个单层的双向LSTM网络，但是在前向传播的过程中，每层网络将输入维度减半而维度不总是偶数，因此需要去除多余的序列。"
      ],
      "metadata": {
        "id": "mVeSTIKLVNJ1"
      }
    },
    {
      "cell_type": "code",
      "source": [
        "class pBLSTM(nn.Module):\n",
        "    '''\n",
        "    Pyramidal BiLSTM\n",
        "    '''\n",
        "    def __init__(self, input_dim, hidden_dim):\n",
        "        super(pBLSTM, self).__init__()\n",
        "        self.blstm = nn.LSTM(input_size=input_dim, hidden_size=hidden_dim, num_layers=1, bidirectional=True, batch_first=True)\n",
        "\n",
        "    def forward(self, x):\n",
        "        '''\n",
        "        :param x :(N, T) input to the pBLSTM\n",
        "        :return output: (N, T, H) encoded sequence from pyramidal Bi-LSTM\n",
        "        '''\n",
        "        x_padded, x_lens = pad_packed_sequence(x, batch_first=True)\n",
        "        x_padded = x_padded[:, :(x_padded.size(1)//2)*2, :] # (B, T, dim); 长度不一定是2的倍数\n",
        "        x_reshaped = x_padded.reshape(x_padded.size(0), x_padded.size(1)//2, x_padded.size(2)*2) # reshape to (B, T/2, dim*2),长度减半\n",
        "        x_packed = pack_padded_sequence(x_reshaped, lengths=(x_lens//2).cpu(), batch_first=True, enforce_sorted=False)  # （B, T/2, input_dim）\n",
        "        output, _ = self.blstm(x_packed)\n",
        "\n",
        "        return output"
      ],
      "metadata": {
        "id": "ALnt4OxPMUD-"
      },
      "execution_count": null,
      "outputs": []
    },
    {
      "cell_type": "markdown",
      "source": [
        "编码器接收语料为输入，输出key-value对，它们就是对pBLSTM网络输出的简单映射。"
      ],
      "metadata": {
        "id": "y09MA-SmQ0MB"
      }
    },
    {
      "cell_type": "code",
      "source": [
        "class Encoder(nn.Module):\n",
        "    '''\n",
        "    Encoder takes the utterances as inputs and returns the key and value.\n",
        "    Key and value are nothing but simple projections of the output from pBLSTM network.\n",
        "    '''\n",
        "    def __init__(self, input_dim, hidden_dim, value_size=128, key_size=128):\n",
        "        super(Encoder, self).__init__()\n",
        "        # 底层LSTM\n",
        "        self.lstm = nn.LSTM(input_size=input_dim, hidden_size=hidden_dim, num_layers=1, bidirectional=True, batch_first=True)\n",
        "\n",
        "        ### Add code to define the blocks of pBLSTMs! ###\n",
        "        # 3层pBLSTM\n",
        "        self.pBLSTMs = nn.Sequential(\n",
        "            pBLSTM(hidden_dim*4, hidden_dim),\n",
        "            pBLSTM(hidden_dim*4, hidden_dim),\n",
        "            pBLSTM(hidden_dim*4, hidden_dim)\n",
        "        )\n",
        "\n",
        "        self.key_network = nn.Linear(hidden_dim*2, value_size)\n",
        "        self.value_network = nn.Linear(hidden_dim*2, key_size)\n",
        "\n",
        "    def forward(self, x, lens):\n",
        "        rnn_inp = pack_padded_sequence(x, lengths=lens.cpu(), batch_first=True, enforce_sorted=False)\n",
        "        outputs, _ = self.lstm(rnn_inp)\n",
        "\n",
        "        ### Use the outputs and pass it through the pBLSTM blocks! ###\n",
        "        outputs = self.pBLSTMs(outputs)\n",
        "\n",
        "        linear_input, encoder_lens = pad_packed_sequence(outputs, batch_first=True)\n",
        "        keys = self.key_network(linear_input)\n",
        "        value = self.value_network(linear_input)\n",
        "        return keys, value, encoder_lens"
      ],
      "metadata": {
        "id": "DJJPFZpXMbs0"
      },
      "execution_count": null,
      "outputs": []
    },
    {
      "cell_type": "markdown",
      "source": [
        "解码器(Speller)对输入序列进行预测。"
      ],
      "metadata": {
        "id": "gWb2vZEFjg8e"
      }
    },
    {
      "cell_type": "code",
      "source": [
        "class Decoder(nn.Module):\n",
        "    '''\n",
        "    As mentioned in a previous recitation, each forward call of decoder deals with just one time step,\n",
        "    thus we use LSTMCell instead of LSLTM here.\n",
        "    The output from the second LSTMCell can be used as query here for attention module.\n",
        "    In place of value that we get from the attention, this can be replace by context we get from the attention.\n",
        "    Methods like Gumble noise and teacher forcing can also be incorporated for improving the performance.\n",
        "    '''\n",
        "    def __init__(self, vocab_size, decoder_hidden_dim, embed_dim, value_size=128, key_size=128, isAttended=False):\n",
        "        super(Decoder, self).__init__()\n",
        "        self.embedding = nn.Embedding(vocab_size, embed_dim, padding_idx=0)\n",
        "        self.lstm1 = nn.LSTMCell(input_size=embed_dim+value_size, hidden_size=decoder_hidden_dim)\n",
        "        self.lstm2 = nn.LSTMCell(input_size=decoder_hidden_dim, hidden_size=key_size)\n",
        "        self.character_prob = nn.Linear(key_size+value_size, vocab_size)\n",
        "        self.value_size = value_size\n",
        "        self.hidden_dim = decoder_hidden_dim\n",
        "\n",
        "        self.isAttended = isAttended\n",
        "        if self.isAttended:\n",
        "            self.attention = Attention()\n",
        "\n",
        "    def forward(self, key, values, encoder_lens, epoch, batch_idx, text=None, isTrain=True):\n",
        "        '''\n",
        "        :param key :(N, T, key_size) Output of the Encoder Key projection layer\n",
        "        :param values: (N, T, value_size) Output of the Encoder Value projection layer\n",
        "        :param text: (N, text_len) Batch input of text with text_length\n",
        "        :param isTrain: Train or eval mode\n",
        "        :return predictions: Returns the character perdiction probability\n",
        "        '''\n",
        "        batch_size = key.shape[0]\n",
        "\n",
        "        # 超参\n",
        "        teacherForcingRate = 0.1\n",
        "        isGumbel=True\n",
        "\n",
        "        if isTrain:\n",
        "            embeddings = self.embedding(text)\n",
        "            max_len =  text.shape[1]\n",
        "        else:\n",
        "            max_len = 250\n",
        "\n",
        "        predictions = []\n",
        "        hidden_states = [None, None]\n",
        "        prediction = torch.zeros(batch_size, 1).to(DEVICE)\n",
        "\n",
        "        context = values[:, 0, :]  # initialize context\n",
        "        attention_plot_list = []\n",
        "        for i in range(max_len):\n",
        "            # * Implement Gumble noise and teacher forcing techniques\n",
        "            # * When attention is True, replace values[i,:,:] with the context you get from attention.\n",
        "            # * If you haven't implemented attention yet, then you may want to check the index and break\n",
        "            #   out of the loop so you do you do not get index out of range errors.\n",
        "\n",
        "            if isTrain: # 训练模式\n",
        "                # 首先决定是否使用teacher forcing technique\n",
        "                rand = random.random()\n",
        "                if rand <= teacherForcingRate:\n",
        "                  isTF = True\n",
        "                else:\n",
        "                  isTF = False\n",
        "\n",
        "                if isTF:  # 使用teacher forcing, 前一步的输出作为下一步的输入\n",
        "                    if i != 0 and isGumbel:   # 添加gumbel noise，增强多样性\n",
        "                        char_embed = torch.nn.functional.gumbel_softmax(prediction).mm(self.embedding.weight)\n",
        "                    else:\n",
        "                        char_embed = self.embedding(prediction.argmax(dim=-1))\n",
        "                else:  # 不用teacher forcing, ground truth作为输入\n",
        "                    if i == 0:\n",
        "                        start_input = torch.zeros(batch_size, dtype=torch.long).fill_(letter2index['<sos>']).to(DEVICE)\n",
        "                        char_embed = self.embedding(start_input)\n",
        "                    else:\n",
        "                        char_embed = embeddings[:, i-1, :]\n",
        "            else:  # 测试或验证模式\n",
        "                if i == 0:  # 开始：以<sos>作为输入\n",
        "                    start_input = torch.zeros(batch_size, dtype=torch.long).fill_(letter2index['<sos>']).to(DEVICE)\n",
        "                    char_embed = self.embedding(start_input)\n",
        "                else:\n",
        "                    char_embed = self.embedding(prediction.argmax(dim=-1))  # 概率最高的char作为输出\n",
        "\n",
        "            # decoder的输入是将char_embed与context拼接\n",
        "            input1 = torch.cat([char_embed, context], dim=1)\n",
        "            hidden_states[0] = self.lstm1(input1, hidden_states[0])\n",
        "            # print('hidden_states.shape:{}'.format(hidden_states[0].shape))\n",
        "            input2 = hidden_states[0][0]\n",
        "            hidden_states[1] = self.lstm2(input2, hidden_states[1]) # output (h_1, c_1)\n",
        "\n",
        "            ### Compute attention from the output of the second LSTM Cell ###\n",
        "            output = hidden_states[1][0]\n",
        "\n",
        "            # 计算attention\n",
        "            if self.isAttended:\n",
        "                context, attention = self.attention(output, key, values, encoder_lens)  # 均为(batch_size, T_max)\n",
        "                if batch_idx % 64 == 0 and isTrain:\n",
        "                    cur_attention = attention[0].detach().cpu()\n",
        "                    attention_plot_list.append(cur_attention)\n",
        "            else:\n",
        "                if i < values.size(1):\n",
        "                    context = values[:, i, :]\n",
        "                else:\n",
        "                    context = torch.zeros(batch_size, self.value_size).to(DEVICE)\n",
        "            # 预测\n",
        "            prob_input = torch.cat([output, context],dim=1)\n",
        "            prediction = self.character_prob(prob_input)\n",
        "            predictions.append(prediction.unsqueeze(1))\n",
        "\n",
        "        # Plot attention plot\n",
        "        if batch_idx % 64 == 0 and isTrain:\n",
        "            attentions = torch.stack(attention_plot_list, dim=1)\n",
        "            plt.clf()\n",
        "            sns.heatmap(attentions, cmap='Reds')  # heatmap并保存\n",
        "            plt.savefig(\"./attention/heatE{}B{}.png\".format(epoch,batch_idx))\n",
        "\n",
        "        return torch.cat(predictions, dim=1)"
      ],
      "metadata": {
        "id": "JXrN5ZmqMyqC"
      },
      "execution_count": null,
      "outputs": []
    },
    {
      "cell_type": "markdown",
      "source": [
        "最后使用LAS类对编码器和解码器进行包装。"
      ],
      "metadata": {
        "id": "tFvLABGKjm2R"
      }
    },
    {
      "cell_type": "code",
      "source": [
        "class LAS(nn.Module):\n",
        "    '''\n",
        "    We train an end-to-end sequence to sequence model comprising of Encoder and Decoder.\n",
        "    This is simply a wrapper \"model\" for your encoder and decoder.\n",
        "    '''\n",
        "    def __init__(self, input_dim, vocab_size, encoder_hidden_dim=256, decoder_hidden_dim=512, embed_dim=256, value_size=128, key_size=128, isAttended=False):\n",
        "        super(LAS, self).__init__()\n",
        "        self.encoder = Encoder(input_dim, encoder_hidden_dim)\n",
        "        self.decoder = Decoder(vocab_size, decoder_hidden_dim, embed_dim, value_size, key_size, isAttended)\n",
        "\n",
        "    def forward(self, speech_input, speech_len, epoch, batchNum, text_input=None, isTrain=True):\n",
        "        key, value, encoder_lens = self.encoder(speech_input, speech_len)\n",
        "        if isTrain:   # 训练模式需要传入label\n",
        "            predictions = self.decoder(key, value, encoder_lens, epoch, batchNum, text_input, isTrain=True)\n",
        "        else:\n",
        "            predictions = self.decoder(key, value, encoder_lens, epoch, batchNum, text=None, isTrain=False)\n",
        "        return predictions"
      ],
      "metadata": {
        "id": "Nqk89mTCM2ws"
      },
      "execution_count": null,
      "outputs": []
    },
    {
      "cell_type": "markdown",
      "source": [
        "# 3 训练"
      ],
      "metadata": {
        "id": "LXqN781eIXiE"
      }
    },
    {
      "cell_type": "markdown",
      "source": [
        "## 3.1 掩码\n",
        "由于在数据预处理阶段对音频进行了对齐处理，在计算损失时应该把这部分排除在外，掩码和pytorch的广播机制为实现提供了可能。"
      ],
      "metadata": {
        "id": "9sqWlaVFfxMF"
      }
    },
    {
      "cell_type": "code",
      "source": [
        "def generate_mask(lens):\n",
        "    # print('lens_size:{}'.format(lens.size()))  # N\n",
        "    lens = torch.tensor(lens).to(DEVICE)  # N\n",
        "    max_len = torch.max(lens)\n",
        "    mask = (torch.arange(0, max_len).repeat(lens.size(0), 1).to(DEVICE) < lens.unsqueeze(1).expand(lens.size(0), max_len)).int()\n",
        "    # print('generated_mask_size:{}'.format(mask.size()))  # torch.Size([64, 201]) in 1 training\n",
        "    return mask"
      ],
      "metadata": {
        "id": "fQGHGHzxQK0c"
      },
      "execution_count": null,
      "outputs": []
    },
    {
      "cell_type": "markdown",
      "source": [
        "## 3.2 验证函数"
      ],
      "metadata": {
        "id": "9EGpKEmXf4Yl"
      }
    },
    {
      "cell_type": "code",
      "source": [
        "def calc_edit_dist(preds, targets):\n",
        "    dist = 0.0\n",
        "    for pred, target in zip(preds, targets):\n",
        "        dist += torchaudio.functional.edit_distance(pred, target)\n",
        "    return dist"
      ],
      "metadata": {
        "id": "xGTDbmqNJ9NR"
      },
      "execution_count": null,
      "outputs": []
    },
    {
      "cell_type": "code",
      "source": [
        "def eval_model(model, test_loader, criterion, epoch):\n",
        "    ### Write your test code here! ###\n",
        "    model.eval()\n",
        "    model.to(DEVICE)\n",
        "    LevDist, num_seq = 0.0, 0.0\n",
        "    for batch_idx, (data, target, dataLens, targetLens) in enumerate(test_loader):\n",
        "        data, target, dataLens, targetLens = data.to(DEVICE), target.to(DEVICE), dataLens.to(DEVICE), targetLens.to(DEVICE)\n",
        "        predictions = model(data, dataLens, epoch, batch_idx, text_input=None, isTrain=False)\n",
        "\n",
        "        # Compare validation edit distance\n",
        "        pred = transform_index_to_letter(predictions.argmax(-1).detach().cpu().numpy())\n",
        "        target = transform_index_to_letter(target.detach().cpu().numpy())\n",
        "\n",
        "        LevDist += calc_edit_dist(pred, target)\n",
        "        # val_loss_list.append(LevDist)\n",
        "        num_seq += len(pred)\n",
        "\n",
        "        del data\n",
        "        del target\n",
        "        del dataLens\n",
        "        del targetLens\n",
        "        torch.cuda.empty_cache()\n",
        "\n",
        "    return LevDist/num_seq, LevDist"
      ],
      "metadata": {
        "id": "o8spVYrAQeg-"
      },
      "execution_count": null,
      "outputs": []
    },
    {
      "cell_type": "markdown",
      "source": [
        "## 3.3 超参数"
      ],
      "metadata": {
        "id": "CNy1WrIXjgG0"
      }
    },
    {
      "cell_type": "code",
      "source": [
        "NUM_EPOCHS = 30\n",
        "ENCODER_HIDDEN_DIM = 256\n",
        "DECODER_HIDDEN_DIM = 512\n",
        "EMBED_DIM = 256\n",
        "VALUE_SIZE = 128\n",
        "KEY_SIZE = 128\n",
        "IS_ATTENDED = True\n",
        "PRETRAINED = True  # 分多次训练或演示时置为True\n",
        "CHECKPOINT_DIR = \"./drive/MyDrive/checkpoints/\"\n",
        "SAVED_CHECKPOINT = \"./drive/MyDrive/checkpoint/init_model29.txt\"\n",
        "SAVED_SCHEDULER = \"./drive/MyDrive/checkpoint/init_scheduler29.txt\"\n",
        "TEST_PRED_CSV_PATH = './data/predicted_test.csv'\n",
        "DEV_PRED_CSV_PATH = './data/predicted_dev.csv'\n",
        "TEST_PRED_NPY_PATH = './data/predicted_test.npy'"
      ],
      "metadata": {
        "id": "ms0nbtDEKE9Y"
      },
      "execution_count": null,
      "outputs": []
    },
    {
      "cell_type": "markdown",
      "source": [
        "## 3.4 定义模型、优化器、学习率调节器\n",
        "使用LAS类对象作为模型，Adam作为优化器，ReduceLROnPlateau算法调节学习率。由于训练时直接使用edit distance作为损失函数会导致计算量大幅增加，且预测可以近似为每一个位置进行40分类问题，因此使用CE loss作为训练时的损失函数。"
      ],
      "metadata": {
        "id": "tCqgUCfJklyn"
      }
    },
    {
      "cell_type": "code",
      "source": [
        "model = LAS(input_dim=40, vocab_size=len(LETTER_LIST), encoder_hidden_dim=ENCODER_HIDDEN_DIM,\n",
        "                decoder_hidden_dim=DECODER_HIDDEN_DIM,\n",
        "                embed_dim=EMBED_DIM,\n",
        "                value_size=VALUE_SIZE,\n",
        "                key_size=KEY_SIZE,\n",
        "                isAttended=IS_ATTENDED)\n",
        "optimizer = optim.Adam(model.parameters(), lr=0.001)\n",
        "# criterion = calc_edit_dist\n",
        "criterion = nn.CrossEntropyLoss(reduction='none')\n",
        "scheduler = optim.lr_scheduler.ReduceLROnPlateau(optimizer, factor=0.80, patience=1, verbose=True, threshold=1e-2)"
      ],
      "metadata": {
        "id": "6x2GGstSNbh2"
      },
      "execution_count": null,
      "outputs": []
    },
    {
      "cell_type": "markdown",
      "source": [
        "若模型已经训练了一部分，恢复上次的参数："
      ],
      "metadata": {
        "id": "bGhMJRR7kzcX"
      }
    },
    {
      "cell_type": "code",
      "source": [
        "if PRETRAINED:\n",
        "      checkpoint = torch.load(SAVED_CHECKPOINT)\n",
        "      model.load_state_dict(checkpoint[\"model_state_dict\"])\n",
        "      model.to(DEVICE)\n",
        "      optimizer.load_state_dict(checkpoint[\"optimizer_state_dict\"])\n",
        "      checkpoint = torch.load(SAVED_SCHEDULER)\n",
        "      scheduler.load_state_dict(checkpoint[\"scheduler_state_dict\"])\n",
        "\n",
        "model.to(DEVICE)"
      ],
      "metadata": {
        "id": "pzMmejw6NmJF",
        "colab": {
          "base_uri": "https://localhost:8080/"
        },
        "outputId": "9b3ef795-e830-4b24-8182-1c47a819da11"
      },
      "execution_count": null,
      "outputs": [
        {
          "output_type": "execute_result",
          "data": {
            "text/plain": [
              "LAS(\n",
              "  (encoder): Encoder(\n",
              "    (lstm): LSTM(40, 256, batch_first=True, bidirectional=True)\n",
              "    (pBLSTMs): Sequential(\n",
              "      (0): pBLSTM(\n",
              "        (blstm): LSTM(1024, 256, batch_first=True, bidirectional=True)\n",
              "      )\n",
              "      (1): pBLSTM(\n",
              "        (blstm): LSTM(1024, 256, batch_first=True, bidirectional=True)\n",
              "      )\n",
              "      (2): pBLSTM(\n",
              "        (blstm): LSTM(1024, 256, batch_first=True, bidirectional=True)\n",
              "      )\n",
              "    )\n",
              "    (key_network): Linear(in_features=512, out_features=128, bias=True)\n",
              "    (value_network): Linear(in_features=512, out_features=128, bias=True)\n",
              "  )\n",
              "  (decoder): Decoder(\n",
              "    (embedding): Embedding(35, 256, padding_idx=0)\n",
              "    (lstm1): LSTMCell(384, 512)\n",
              "    (lstm2): LSTMCell(512, 128)\n",
              "    (character_prob): Linear(in_features=256, out_features=35, bias=True)\n",
              "    (attention): Attention()\n",
              "  )\n",
              ")"
            ]
          },
          "metadata": {},
          "execution_count": 28
        }
      ]
    },
    {
      "cell_type": "markdown",
      "source": [
        "## 3.5 训练函数"
      ],
      "metadata": {
        "id": "0LwKVaN9k6_F"
      }
    },
    {
      "cell_type": "code",
      "source": [
        "def train(model, train_loader, criterion, optimizer, epoch):\n",
        "      # training mode\n",
        "      model.train()\n",
        "      model.to(DEVICE)\n",
        "      trainingLoss, trainingPerplex = 0.0, 0.0\n",
        "      # 1) Iterate through your loader\n",
        "      for batch_idx, (data, target, dataLens, targetLens) in enumerate(train_loader):\n",
        "          # 2) Use torch.autograd.set_detect_anomaly(True) to get notices about gradient explosion\n",
        "          with torch.autograd.set_detect_anomaly(False):\n",
        "              # 3) Set the inputs to the device.\n",
        "              data, target, dataLens, targetLens = data.to(DEVICE), target.to(DEVICE), dataLens.to(DEVICE), targetLens.to(DEVICE)\n",
        "              optimizer.zero_grad()\n",
        "\n",
        "              # 4) Pass your inputs, and length of speech into the model.\n",
        "              predictions = model(speech_input=data, speech_len=dataLens, epoch=epoch, batchNum=batch_idx, text_input=target, isTrain=True)\n",
        "\n",
        "              # 5) Generate a mask based on the lengths of the text to create a masked loss.\n",
        "              # 5.1) Ensure the mask is on the device and is the correct shape.\n",
        "              mask = generate_mask(targetLens).to(DEVICE)\n",
        "\n",
        "              # print('batch no.:{}'.format(batch_idx))\n",
        "              # 7) Use the criterion to get the loss.\n",
        "              loss = criterion(predictions.view(-1, predictions.size(2)), target.view(-1))\n",
        "              # print('loss_size:{}'.format(loss.size()))\n",
        "              # print(mask.size())\n",
        "              # print(mask[3])\n",
        "              # print(torch.sum(mask.view(-1)))\n",
        "              # 8) Use the mask to calculate a masked loss.\n",
        "              masked_loss = torch.sum(loss * mask.view(-1)) / torch.sum(mask) # 将mask flatten以计算内积\n",
        "              # masked_loss = loss.sum() / targetLens.sum()\n",
        "\n",
        "              ## Cumulate running loss and perplexity ##\n",
        "              currLoss = masked_loss.item()\n",
        "              currPerplex = torch.exp(masked_loss).item()\n",
        "              trainingLoss += currLoss\n",
        "              trainingPerplex += currPerplex\n",
        "\n",
        "              # 9) Run the backward pass on the masked loss.\n",
        "              masked_loss.backward()\n",
        "              # 10) Use torch.nn.utils.clip_grad_norm(model.parameters(), 2)\n",
        "              torch.nn.utils.clip_grad_norm(model.parameters(), 2)\n",
        "              # 11) Take a step with your optimizer\n",
        "              optimizer.step()\n",
        "\n",
        "              del data\n",
        "              del target\n",
        "              del dataLens\n",
        "              del targetLens\n",
        "              torch.cuda.empty_cache()\n",
        "\n",
        "      return trainingLoss/len(train_loader), trainingPerplex/len(train_loader)"
      ],
      "metadata": {
        "id": "5rWiooXiWlOz"
      },
      "execution_count": null,
      "outputs": []
    },
    {
      "cell_type": "code",
      "source": [
        "def train(model, train_loader, criterion, optimizer, epoch):\n",
        "      # training mode\n",
        "      model.train()\n",
        "      model.to(DEVICE)\n",
        "      trainingLoss, trainingPerplex = 0.0, 0.0\n",
        "      # 1) Iterate through your loader\n",
        "      for batch_idx, (data, target, dataLens, targetLens) in enumerate(train_loader):\n",
        "          # 2) Use torch.autograd.set_detect_anomaly(True) to get notices about gradient explosion\n",
        "          with torch.autograd.set_detect_anomaly(False):\n",
        "              # 3) Set the inputs to the device.\n",
        "              data, target, dataLens, targetLens = data.to(DEVICE), target.to(DEVICE), dataLens.to(DEVICE), targetLens.to(DEVICE)\n",
        "              optimizer.zero_grad()\n",
        "\n",
        "              # 4) Pass your inputs, and length of speech into the model.\n",
        "              predictions = model(speech_input=data, speech_len=dataLens, epoch=epoch, batchNum=batch_idx, text_input=target, isTrain=True)\n",
        "\n",
        "              # 5) Generate a mask based on the lengths of the text to create a masked loss.\n",
        "              # 5.1) Ensure the mask is on the device and is the correct shape.\n",
        "              mask = generate_mask(targetLens).to(DEVICE)\n",
        "\n",
        "              # 7) Use the criterion to get the loss.\n",
        "              loss = criterion(predictions.view(-1, predictions.size(2)), target.view(-1))\n",
        "\n",
        "              # 8) Use the mask to calculate a masked loss.\n",
        "              masked_loss = torch.sum(loss * mask.view(-1)) / torch.sum(mask) # 将mask flatten以计算内积\n",
        "              ## Cumulate running loss and perplexity ##\n",
        "              currLoss = masked_loss.item()\n",
        "              currPerplex = torch.exp(masked_loss).item()\n",
        "              trainingLoss += currLoss\n",
        "              trainingPerplex += currPerplex\n",
        "\n",
        "              # 9) Run the backward pass on the masked loss.\n",
        "              masked_loss.backward()\n",
        "              # 10) Use torch.nn.utils.clip_grad_norm(model.parameters(), 2)\n",
        "              torch.nn.utils.clip_grad_norm(model.parameters(), 2)\n",
        "              # 11) Take a step with your optimizer\n",
        "              optimizer.step()\n",
        "\n",
        "              del data\n",
        "              del target\n",
        "              del dataLens\n",
        "              del targetLens\n",
        "              torch.cuda.empty_cache()\n",
        "\n",
        "      return trainingLoss/len(train_loader), trainingPerplex/len(train_loader)"
      ],
      "metadata": {
        "id": "tPRX2lvDuHUH"
      },
      "execution_count": null,
      "outputs": []
    },
    {
      "cell_type": "code",
      "source": [
        "import warnings\n",
        "warnings.filterwarnings(\"ignore\", category=UserWarning)\n",
        "\n",
        "train_loss_list = []\n",
        "train_perplex_list = []\n",
        "val_loss_list = []\n",
        "\n",
        "for epoch in range(NUM_EPOCHS):\n",
        "      loss, perp = train(model, train_loader, criterion, optimizer, epoch)\n",
        "      train_loss_list.append(loss)\n",
        "      train_perplex_list.append(perp)\n",
        "\n",
        "      # Save checkpoint\n",
        "      path = \"./drive/MyDrive/checkpoint/init_model{}.txt\".format(epoch)\n",
        "      torch.save({'epoch':epoch, 'model_state_dict':model.state_dict(), 'optimizer_state_dict':optimizer.state_dict()}, path)\n",
        "\n",
        "      # Evaluate\n",
        "      avgEditDist, _ = eval_model(model, dev_loader, criterion, epoch)\n",
        "      val_loss_list.append(avgEditDist)\n",
        "      scheduler.step(avgEditDist)\n",
        "      torch.save({'epoch':epoch, 'scheduler_state_dict':scheduler.state_dict()}, \"./drive/MyDrive/checkpoint/init_scheduler{}.txt\".format(epoch))\n",
        "\n",
        "      print('In epoch {},\\t train_loss:{:.5f}\\t train_perplexity:{:.5f}\\t'.format(epoch, loss, perp))"
      ],
      "metadata": {
        "colab": {
          "base_uri": "https://localhost:8080/",
          "height": 913
        },
        "id": "RYKXzp0oiAzS",
        "outputId": "35964ddc-f720-4fe1-f4b9-c92cb8dd8af1"
      },
      "execution_count": null,
      "outputs": [
        {
          "output_type": "stream",
          "name": "stdout",
          "text": [
            "In epoch 0,\t train_loss:1.91992\t train_perplexity:7.38317\t\n",
            "In epoch 1,\t train_loss:1.46708\t train_perplexity:4.35159\t\n",
            "Epoch 00003: reducing learning rate of group 0 to 8.0000e-04.\n",
            "In epoch 2,\t train_loss:1.34399\t train_perplexity:3.84584\t\n",
            "In epoch 3,\t train_loss:1.24790\t train_perplexity:3.49374\t\n",
            "In epoch 4,\t train_loss:1.19581\t train_perplexity:3.31590\t\n",
            "Epoch 00006: reducing learning rate of group 0 to 6.4000e-04.\n",
            "In epoch 5,\t train_loss:1.16169\t train_perplexity:3.20591\t\n",
            "In epoch 6,\t train_loss:1.11553\t train_perplexity:3.06004\t\n",
            "In epoch 7,\t train_loss:1.09693\t train_perplexity:3.00367\t\n",
            "In epoch 8,\t train_loss:1.07450\t train_perplexity:2.93757\t\n",
            "In epoch 9,\t train_loss:1.05214\t train_perplexity:2.87201\t\n",
            "Epoch 00011: reducing learning rate of group 0 to 5.1200e-04.\n",
            "In epoch 10,\t train_loss:1.02101\t train_perplexity:2.78409\t\n",
            "In epoch 11,\t train_loss:0.94211\t train_perplexity:2.57175\t\n",
            "In epoch 12,\t train_loss:0.77783\t train_perplexity:2.18450\t\n",
            "In epoch 13,\t train_loss:0.56897\t train_perplexity:1.77065\t\n",
            "In epoch 14,\t train_loss:0.43240\t train_perplexity:1.54282\t\n",
            "In epoch 15,\t train_loss:0.35172\t train_perplexity:1.42261\t\n",
            "In epoch 16,\t train_loss:0.30993\t train_perplexity:1.36416\t\n",
            "In epoch 17,\t train_loss:0.27798\t train_perplexity:1.32122\t\n",
            "In epoch 18,\t train_loss:0.25170\t train_perplexity:1.28684\t\n",
            "In epoch 19,\t train_loss:0.22443\t train_perplexity:1.25211\t\n",
            "In epoch 20,\t train_loss:0.21211\t train_perplexity:1.23685\t\n",
            "In epoch 21,\t train_loss:0.19747\t train_perplexity:1.21883\t\n",
            "In epoch 22,\t train_loss:0.18185\t train_perplexity:1.19998\t\n",
            "In epoch 23,\t train_loss:0.17693\t train_perplexity:1.19400\t\n",
            "In epoch 24,\t train_loss:0.15824\t train_perplexity:1.17184\t\n",
            "Epoch 00026: reducing learning rate of group 0 to 4.0960e-04.\n",
            "In epoch 25,\t train_loss:0.17329\t train_perplexity:1.18986\t\n",
            "In epoch 26,\t train_loss:0.14675\t train_perplexity:1.15838\t\n",
            "In epoch 27,\t train_loss:0.13660\t train_perplexity:1.14668\t\n",
            "Epoch 00029: reducing learning rate of group 0 to 3.2768e-04.\n",
            "In epoch 28,\t train_loss:0.12292\t train_perplexity:1.13110\t\n",
            "In epoch 29,\t train_loss:0.10458\t train_perplexity:1.11046\t\n"
          ]
        },
        {
          "output_type": "display_data",
          "data": {
            "text/plain": [
              "<Figure size 432x288 with 2 Axes>"
            ],
            "image/png": "[encoded data removed]"
          },
          "metadata": {
            "needs_background": "light"
          }
        }
      ]
    },
    {
      "cell_type": "code",
      "source": [
        "import warnings\n",
        "warnings.filterwarnings(\"ignore\", category=UserWarning)\n",
        "\n",
        "train_loss_list = []\n",
        "train_perplex_list = []\n",
        "val_loss_list = []\n",
        "\n",
        "for epoch in range(NUM_EPOCHS):\n",
        "      loss, perp = train(model, train_loader, criterion, optimizer, epoch)\n",
        "      train_loss_list.append(loss)\n",
        "      train_perplex_list.append(perp)\n",
        "\n",
        "      # Save checkpoint\n",
        "      path = \"./drive/MyDrive/init_epoch{}.txt\".format(epoch)\n",
        "      torch.save({'epoch':epoch, 'model_state_dict':model.state_dict(), 'optimizer_state_dict':optimizer.state_dict()}, path)\n",
        "\n",
        "      # Evaluate\n",
        "      avgEditDist, _ = eval_model(model, dev_loader, criterion, epoch)\n",
        "      val_loss_list.append(avgEditDist)\n",
        "      scheduler.step(avgEditDist)\n",
        "      torch.save({'epoch':epoch, 'scheduler_state_dict':scheduler.state_dict()}, \"./drive/MyDrive/init_scheduler{}.txt\".format(epoch))\n",
        "\n",
        "      print('In epoch {},\\t train_loss:{:.5f}\\t train_perplexity:{:.5f}\\t'.format(epoch, loss, perp))"
      ],
      "metadata": {
        "colab": {
          "base_uri": "https://localhost:8080/"
        },
        "id": "wSEYYig65cf9",
        "outputId": "6e1eb1c7-9f72-4568-c536-23fb8f8b1281"
      },
      "execution_count": null,
      "outputs": [
        {
          "output_type": "stream",
          "name": "stdout",
          "text": [
            "In epoch 0,\t train_loss:1.93423\t train_perplexity:7.47307\t\n",
            "Epoch 00027: reducing learning rate of group 0 to 7.5000e-04.\n",
            "In epoch 1,\t train_loss:1.46864\t train_perplexity:4.36268\t\n",
            "In epoch 2,\t train_loss:1.31018\t train_perplexity:3.71919\t\n",
            "Epoch 00029: reducing learning rate of group 0 to 5.6250e-04.\n",
            "In epoch 3,\t train_loss:1.23518\t train_perplexity:3.44986\t\n",
            "In epoch 4,\t train_loss:1.17447\t train_perplexity:3.24761\t\n",
            "Epoch 00031: reducing learning rate of group 0 to 4.2188e-04.\n",
            "In epoch 5,\t train_loss:1.12685\t train_perplexity:3.09560\t\n",
            "In epoch 6,\t train_loss:1.02802\t train_perplexity:2.80638\t\n",
            "Epoch 00033: reducing learning rate of group 0 to 3.1641e-04.\n",
            "In epoch 7,\t train_loss:0.69870\t train_perplexity:2.02823\t\n",
            "In epoch 8,\t train_loss:0.41548\t train_perplexity:1.51722\t\n",
            "Epoch 00035: reducing learning rate of group 0 to 2.3730e-04.\n",
            "In epoch 9,\t train_loss:0.30824\t train_perplexity:1.36201\t\n",
            "In epoch 10,\t train_loss:0.23456\t train_perplexity:1.26483\t\n",
            "Epoch 00037: reducing learning rate of group 0 to 1.7798e-04.\n",
            "In epoch 11,\t train_loss:0.19726\t train_perplexity:1.21848\t\n",
            "In epoch 12,\t train_loss:0.16165\t train_perplexity:1.17577\t\n",
            "Epoch 00039: reducing learning rate of group 0 to 1.3348e-04.\n",
            "In epoch 13,\t train_loss:0.13966\t train_perplexity:1.15010\t\n",
            "In epoch 14,\t train_loss:0.11591\t train_perplexity:1.12308\t\n",
            "Epoch 00041: reducing learning rate of group 0 to 1.0011e-04.\n",
            "In epoch 15,\t train_loss:0.10242\t train_perplexity:1.10802\t\n",
            "In epoch 16,\t train_loss:0.08623\t train_perplexity:1.09021\t\n",
            "Epoch 00043: reducing learning rate of group 0 to 7.5085e-05.\n",
            "In epoch 17,\t train_loss:0.07675\t train_perplexity:1.07990\t\n",
            "In epoch 18,\t train_loss:0.06529\t train_perplexity:1.06756\t\n",
            "Epoch 00045: reducing learning rate of group 0 to 5.6314e-05.\n",
            "In epoch 19,\t train_loss:0.05881\t train_perplexity:1.06067\t\n",
            "In epoch 20,\t train_loss:0.05087\t train_perplexity:1.05227\t\n",
            "Epoch 00047: reducing learning rate of group 0 to 4.2235e-05.\n",
            "In epoch 21,\t train_loss:0.04670\t train_perplexity:1.04788\t\n"
          ]
        }
      ]
    },
    {
      "cell_type": "code",
      "source": [
        "import tarfile\n",
        "import os\n",
        "from google.colab import files\n",
        "\n",
        "#逐个添加文件打包，未打包空子目录。可过滤文件。\n",
        "#如果只打包不压缩，将\"w:gz\"参数改为\"w:\"或\"w\"即可。\n",
        "def make_targz_one_by_one(output_filename, source_dir):\n",
        "    tar = tarfile.open(output_filename,\"w:gz\")\n",
        "    for root,dir_name,files_list in os.walk(source_dir):\n",
        "      for file in files_list:\n",
        "        pathfile = os.path.join(root, file)\n",
        "        tar.add(pathfile)\n",
        "    tar.close()\n",
        "    os.system('mv attention3.zip drive/MyDrive/')\n",
        "\n",
        "make_targz_one_by_one('attention3.zip', './attention/')"
      ],
      "metadata": {
        "id": "C6MXryGkDk7l"
      },
      "execution_count": null,
      "outputs": []
    },
    {
      "cell_type": "markdown",
      "source": [
        "# 4 推断（预测）"
      ],
      "metadata": {
        "id": "cU2PSBJElBVX"
      }
    },
    {
      "cell_type": "code",
      "source": [
        "def inference(model, data_loader, csv_path, isValid=False):\n",
        "    model.eval()\n",
        "    model.to(DEVICE)\n",
        "    res = []\n",
        "    with torch.no_grad():\n",
        "        if isValid:  # validation mode\n",
        "            targetRes = []\n",
        "            totalDist, num_seq = 0.0, 0.0\n",
        "            for batch_idx, (data, target, dataLens, targetLens) in enumerate(data_loader):\n",
        "                data, target, dataLens, targetLens = data.to(DEVICE), target.to(DEVICE), dataLens.to(DEVICE), targetLens.to(DEVICE)\n",
        "                predictions = model(data, dataLens, 30, batch_idx, text_input=None, isTrain=False)\n",
        "\n",
        "                # 计算edit dist\n",
        "                predText = transform_index_to_letter(predictions.argmax(-1).detach().cpu().numpy())  #使用最大prob的下标查表\n",
        "                targetText = transform_index_to_letter(target.detach().cpu().numpy())\n",
        "                totalDist += calc_edit_dist(predText, targetText)\n",
        "                num_seq += len(predText)\n",
        "\n",
        "                # 使用entend向list末尾追加多个元素\n",
        "                # 不能用append，否则res的长度只会和batch的数量一样\n",
        "                res.extend(predText)\n",
        "                targetRes.extend(targetText)\n",
        "\n",
        "            print(\"Average edit distance on validation set:\\t{:.5f}\".format(totalDist/num_seq))\n",
        "            # print(num_seq)\n",
        "            df = pd.DataFrame({\"Id\" : np.array([i for i in range(len(res))]), \"Predicted\" : np.array(res), \"Target\": np.array(targetRes)})\n",
        "        else:\n",
        "            for batch_idx, (data, dataLens) in enumerate(data_loader):\n",
        "                data, dataLens = data.to(DEVICE), dataLens.to(DEVICE)\n",
        "                predictions = model(data, dataLens, 30, batch_idx, text_input=None, isTrain=False)\n",
        "                predText = transform_index_to_letter(predictions.argmax(-1).detach().cpu().numpy())\n",
        "                res.extend(predText)\n",
        "            df = pd.DataFrame({\"Id\": np.array([i for i in range(len(res))]), \"Predicted\": np.array(res)})\n",
        "\n",
        "        df.to_csv(csv_path, index=False)  # 输出csv\n",
        "        return df"
      ],
      "metadata": {
        "id": "3ORog16mPJnk"
      },
      "execution_count": null,
      "outputs": []
    },
    {
      "cell_type": "code",
      "source": [
        "import warnings\n",
        "warnings.filterwarnings(\"ignore\", category=UserWarning)\n",
        "\n",
        "# 预测验证集\n",
        "validInfer = inference(model, dev_loader, DEV_PRED_CSV_PATH, isValid=True)\n",
        "\n",
        "# 预测测试集（提交kaggle）\n",
        "testInfer = inference(model, test_loader, TEST_PRED_CSV_PATH, isValid=False)"
      ],
      "metadata": {
        "id": "rRG4AXP7NqOk",
        "colab": {
          "base_uri": "https://localhost:8080/"
        },
        "outputId": "3c5c08ef-11e6-47b4-f35b-7a33c50cf308"
      },
      "execution_count": null,
      "outputs": [
        {
          "output_type": "stream",
          "name": "stdout",
          "text": [
            "Average edit distance on validation set:\t16.98463\n"
          ]
        }
      ]
    },
    {
      "cell_type": "markdown",
      "source": [
        "# 5 数据可视化"
      ],
      "metadata": {
        "id": "gCd1AdnOilEX"
      }
    },
    {
      "cell_type": "markdown",
      "source": [
        "## 5.1 验证集预测结果"
      ],
      "metadata": {
        "id": "SxRzxOHUit3Z"
      }
    },
    {
      "cell_type": "code",
      "source": [
        "validInfer"
      ],
      "metadata": {
        "id": "0vQfpyc6v7GC",
        "colab": {
          "base_uri": "https://localhost:8080/",
          "height": 423
        },
        "outputId": "e0a9ab4a-ce44-4151-ac15-5d53230f6a1e"
      },
      "execution_count": null,
      "outputs": [
        {
          "output_type": "execute_result",
          "data": {
            "text/plain": [
              "        Id                                          Predicted  \\\n",
              "0        0  THE FEMALE PRODUCES A LITTER OF TWO TO FOUR YO...   \n",
              "1        1  NUMEROUS WORKS OF ART ARE BASED ON THE STORY O...   \n",
              "2        2  THEIR SOLUTION REQUIRES DEVELOPMENT OF THE HUM...   \n",
              "3        3  HIS MOST SIGNIFICANT SCIENTIFIC PUBLICATIONS W...   \n",
              "4        4  IN RECENT YEARS SHE HAS PRIMARILY APPEARED IN ...   \n",
              "...    ...                                                ...   \n",
              "1101  1101  DOUBLE-QUOTE I THINK IT'S GRATE COMMA DOUBLE-Q...   \n",
              "1102  1102  DOUBLE-QUOTE WE WERE THINKING THERE IS AN OBSI...   \n",
              "1103  1103              AND THEY TAP IN A PERIOD DOUBLE-QUOTE   \n",
              "1104  1104  THE HOUSE SELF FAR HAS PROPOSED TO OWLOWN HYPH...   \n",
              "1105  1105  DOUBLE-QUOTE HAVING WE AREN'T OVERBOARD AND AS...   \n",
              "\n",
              "                                                 Target  \n",
              "0     THE FEMALE PRODUCES A LITTER OF TWO TO FOUR YO...  \n",
              "1     NUMEROUS WORKS OF ART ARE BASED ON THE STORY O...  \n",
              "2     THEIR SOLUTION REQUIRES DEVELOPMENT OF THE HUM...  \n",
              "3     HIS MOST SIGNIFICANT SCIENTIFIC PUBLICATIONS W...  \n",
              "4     IN RECENT YEARS SHE HAS PRIMARILY APPEARED IN ...  \n",
              "...                                                 ...  \n",
              "1101  DOUBLE-QUOTE I THINK IT'S GREAT COMMA DOUBLE-Q...  \n",
              "1102  DOUBLE-QUOTE WE WERE THINKING THERE WAS AN OUT...  \n",
              "1103                AND IT HAPPENED PERIOD DOUBLE-QUOTE  \n",
              "1104  THE HOUSE SO FAR HAS PROPOSED A LOAN HYPHEN GU...  \n",
              "1105  DOUBLE-QUOTE HAVEN'T WE ALREADY GONE OVERBOARD...  \n",
              "\n",
              "[1106 rows x 3 columns]"
            ],
            "text/html": [
              "\n",
              "  <div id=\"df-9e1a0948-5aa7-4106-8468-65d4e36df0ea\">\n",
              "    <div class=\"colab-df-container\">\n",
              "      <div>\n",
              "<style scoped>\n",
              "    .dataframe tbody tr th:only-of-type {\n",
              "        vertical-align: middle;\n",
              "    }\n",
              "\n",
              "    .dataframe tbody tr th {\n",
              "        vertical-align: top;\n",
              "    }\n",
              "\n",
              "    .dataframe thead th {\n",
              "        text-align: right;\n",
              "    }\n",
              "</style>\n",
              "<table border=\"1\" class=\"dataframe\">\n",
              "  <thead>\n",
              "    <tr style=\"text-align: right;\">\n",
              "      <th></th>\n",
              "      <th>Id</th>\n",
              "      <th>Predicted</th>\n",
              "      <th>Target</th>\n",
              "    </tr>\n",
              "  </thead>\n",
              "  <tbody>\n",
              "    <tr>\n",
              "      <th>0</th>\n",
              "      <td>0</td>\n",
              "      <td>THE FEMALE PRODUCES A LITTER OF TWO TO FOUR YO...</td>\n",
              "      <td>THE FEMALE PRODUCES A LITTER OF TWO TO FOUR YO...</td>\n",
              "    </tr>\n",
              "    <tr>\n",
              "      <th>1</th>\n",
              "      <td>1</td>\n",
              "      <td>NUMEROUS WORKS OF ART ARE BASED ON THE STORY O...</td>\n",
              "      <td>NUMEROUS WORKS OF ART ARE BASED ON THE STORY O...</td>\n",
              "    </tr>\n",
              "    <tr>\n",
              "      <th>2</th>\n",
              "      <td>2</td>\n",
              "      <td>THEIR SOLUTION REQUIRES DEVELOPMENT OF THE HUM...</td>\n",
              "      <td>THEIR SOLUTION REQUIRES DEVELOPMENT OF THE HUM...</td>\n",
              "    </tr>\n",
              "    <tr>\n",
              "      <th>3</th>\n",
              "      <td>3</td>\n",
              "      <td>HIS MOST SIGNIFICANT SCIENTIFIC PUBLICATIONS W...</td>\n",
              "      <td>HIS MOST SIGNIFICANT SCIENTIFIC PUBLICATIONS W...</td>\n",
              "    </tr>\n",
              "    <tr>\n",
              "      <th>4</th>\n",
              "      <td>4</td>\n",
              "      <td>IN RECENT YEARS SHE HAS PRIMARILY APPEARED IN ...</td>\n",
              "      <td>IN RECENT YEARS SHE HAS PRIMARILY APPEARED IN ...</td>\n",
              "    </tr>\n",
              "    <tr>\n",
              "      <th>...</th>\n",
              "      <td>...</td>\n",
              "      <td>...</td>\n",
              "      <td>...</td>\n",
              "    </tr>\n",
              "    <tr>\n",
              "      <th>1101</th>\n",
              "      <td>1101</td>\n",
              "      <td>DOUBLE-QUOTE I THINK IT'S GRATE COMMA DOUBLE-Q...</td>\n",
              "      <td>DOUBLE-QUOTE I THINK IT'S GREAT COMMA DOUBLE-Q...</td>\n",
              "    </tr>\n",
              "    <tr>\n",
              "      <th>1102</th>\n",
              "      <td>1102</td>\n",
              "      <td>DOUBLE-QUOTE WE WERE THINKING THERE IS AN OBSI...</td>\n",
              "      <td>DOUBLE-QUOTE WE WERE THINKING THERE WAS AN OUT...</td>\n",
              "    </tr>\n",
              "    <tr>\n",
              "      <th>1103</th>\n",
              "      <td>1103</td>\n",
              "      <td>AND THEY TAP IN A PERIOD DOUBLE-QUOTE</td>\n",
              "      <td>AND IT HAPPENED PERIOD DOUBLE-QUOTE</td>\n",
              "    </tr>\n",
              "    <tr>\n",
              "      <th>1104</th>\n",
              "      <td>1104</td>\n",
              "      <td>THE HOUSE SELF FAR HAS PROPOSED TO OWLOWN HYPH...</td>\n",
              "      <td>THE HOUSE SO FAR HAS PROPOSED A LOAN HYPHEN GU...</td>\n",
              "    </tr>\n",
              "    <tr>\n",
              "      <th>1105</th>\n",
              "      <td>1105</td>\n",
              "      <td>DOUBLE-QUOTE HAVING WE AREN'T OVERBOARD AND AS...</td>\n",
              "      <td>DOUBLE-QUOTE HAVEN'T WE ALREADY GONE OVERBOARD...</td>\n",
              "    </tr>\n",
              "  </tbody>\n",
              "</table>\n",
              "<p>1106 rows × 3 columns</p>\n",
              "</div>\n",
              "      <button class=\"colab-df-convert\" onclick=\"convertToInteractive('df-9e1a0948-5aa7-4106-8468-65d4e36df0ea')\"\n",
              "              title=\"Convert this dataframe to an interactive table.\"\n",
              "              style=\"display:none;\">\n",
              "        \n",
              "  <svg xmlns=\"http://www.w3.org/2000/svg\" height=\"24px\"viewBox=\"0 0 24 24\"\n",
              "       width=\"24px\">\n",
              "    <path d=\"M0 0h24v24H0V0z\" fill=\"none\"/>\n",
              "    <path d=\"M18.56 5.44l.94 2.06.94-2.06 2.06-.94-2.06-.94-.94-2.06-.94 2.06-2.06.94zm-11 1L8.5 8.5l.94-2.06 2.06-.94-2.06-.94L8.5 2.5l-.94 2.06-2.06.94zm10 10l.94 2.06.94-2.06 2.06-.94-2.06-.94-.94-2.06-.94 2.06-2.06.94z\"/><path d=\"M17.41 7.96l-1.37-1.37c-.4-.4-.92-.59-1.43-.59-.52 0-1.04.2-1.43.59L10.3 9.45l-7.72 7.72c-.78.78-.78 2.05 0 2.83L4 21.41c.39.39.9.59 1.41.59.51 0 1.02-.2 1.41-.59l7.78-7.78 2.81-2.81c.8-.78.8-2.07 0-2.86zM5.41 20L4 18.59l7.72-7.72 1.47 1.35L5.41 20z\"/>\n",
              "  </svg>\n",
              "      </button>\n",
              "      \n",
              "  <style>\n",
              "    .colab-df-container {\n",
              "      display:flex;\n",
              "      flex-wrap:wrap;\n",
              "      gap: 12px;\n",
              "    }\n",
              "\n",
              "    .colab-df-convert {\n",
              "      background-color: #E8F0FE;\n",
              "      border: none;\n",
              "      border-radius: 50%;\n",
              "      cursor: pointer;\n",
              "      display: none;\n",
              "      fill: #1967D2;\n",
              "      height: 32px;\n",
              "      padding: 0 0 0 0;\n",
              "      width: 32px;\n",
              "    }\n",
              "\n",
              "    .colab-df-convert:hover {\n",
              "      background-color: #E2EBFA;\n",
              "      box-shadow: 0px 1px 2px rgba(60, 64, 67, 0.3), 0px 1px 3px 1px rgba(60, 64, 67, 0.15);\n",
              "      fill: #174EA6;\n",
              "    }\n",
              "\n",
              "    [theme=dark] .colab-df-convert {\n",
              "      background-color: #3B4455;\n",
              "      fill: #D2E3FC;\n",
              "    }\n",
              "\n",
              "    [theme=dark] .colab-df-convert:hover {\n",
              "      background-color: #434B5C;\n",
              "      box-shadow: 0px 1px 3px 1px rgba(0, 0, 0, 0.15);\n",
              "      filter: drop-shadow(0px 1px 2px rgba(0, 0, 0, 0.3));\n",
              "      fill: #FFFFFF;\n",
              "    }\n",
              "  </style>\n",
              "\n",
              "      <script>\n",
              "        const buttonEl =\n",
              "          document.querySelector('#df-9e1a0948-5aa7-4106-8468-65d4e36df0ea button.colab-df-convert');\n",
              "        buttonEl.style.display =\n",
              "          google.colab.kernel.accessAllowed ? 'block' : 'none';\n",
              "\n",
              "        async function convertToInteractive(key) {\n",
              "          const element = document.querySelector('#df-9e1a0948-5aa7-4106-8468-65d4e36df0ea');\n",
              "          const dataTable =\n",
              "            await google.colab.kernel.invokeFunction('convertToInteractive',\n",
              "                                                     [key], {});\n",
              "          if (!dataTable) return;\n",
              "\n",
              "          const docLinkHtml = 'Like what you see? Visit the ' +\n",
              "            '<a target=\"_blank\" href=https://colab.research.google.com/notebooks/data_table.ipynb>data table notebook</a>'\n",
              "            + ' to learn more about interactive tables.';\n",
              "          element.innerHTML = '';\n",
              "          dataTable['output_type'] = 'display_data';\n",
              "          await google.colab.output.renderOutput(dataTable, element);\n",
              "          const docLink = document.createElement('div');\n",
              "          docLink.innerHTML = docLinkHtml;\n",
              "          element.appendChild(docLink);\n",
              "        }\n",
              "      </script>\n",
              "    </div>\n",
              "  </div>\n",
              "  "
            ]
          },
          "metadata": {},
          "execution_count": 31
        }
      ]
    },
    {
      "cell_type": "markdown",
      "source": [
        "## 5.2 训练集损失"
      ],
      "metadata": {
        "id": "NLeoNHGUi0H5"
      }
    },
    {
      "cell_type": "code",
      "source": [
        "train_loss_plot = pd.DataFrame({\"loss\":train_loss_list, \"epoch\":[i+1 for i in range(NUM_EPOCHS)]})\n",
        "\n",
        "g = sns.lineplot(x = \"epoch\", y = \"loss\", data=train_loss_plot)\n",
        "g.xaxis.set_major_locator(ticker.MultipleLocator(1))\n",
        "g.xaxis.set_major_formatter(ticker.ScalarFormatter())\n",
        "plt.savefig(\"./train_loss1.png\")\n",
        "os.system('mv ./train_loss1.png ./drive/MyDrive/')"
      ],
      "metadata": {
        "id": "jwbcmbvPPmE_",
        "colab": {
          "base_uri": "https://localhost:8080/",
          "height": 300
        },
        "outputId": "1f71ab63-bf90-43db-f548-23860ab8d192"
      },
      "execution_count": null,
      "outputs": [
        {
          "output_type": "execute_result",
          "data": {
            "text/plain": [
              "0"
            ]
          },
          "metadata": {},
          "execution_count": 34
        },
        {
          "output_type": "display_data",
          "data": {
            "text/plain": [
              "<Figure size 432x288 with 1 Axes>"
            ],
            "image/png": "[encoded data removed]"
          },
          "metadata": {
            "needs_background": "light"
          }
        }
      ]
    },
    {
      "cell_type": "markdown",
      "source": [
        "## 5.3 验证集损失\n",
        "验证集损失函数：编辑距离"
      ],
      "metadata": {
        "id": "blVrxW8Ci41V"
      }
    },
    {
      "cell_type": "code",
      "source": [
        "val_loss_plot = pd.DataFrame({\"editDist\":val_loss_list, \"epoch\":[i+1 for i in range(NUM_EPOCHS)]})\n",
        "\n",
        "gg = sns.lineplot(x = \"epoch\", y = \"editDist\", data=val_loss_plot)\n",
        "gg.xaxis.set_major_locator(ticker.MultipleLocator(1))\n",
        "gg.xaxis.set_major_formatter(ticker.ScalarFormatter())\n",
        "plt.savefig(\"./val_loss1.png\")\n",
        "os.system('mv ./val_loss1.png ./drive/MyDrive/')"
      ],
      "metadata": {
        "id": "-rqTQWUPCJuG",
        "colab": {
          "base_uri": "https://localhost:8080/",
          "height": 297
        },
        "outputId": "211c7ea2-f930-4ac8-b7f9-79ab03bcf841"
      },
      "execution_count": null,
      "outputs": [
        {
          "output_type": "execute_result",
          "data": {
            "text/plain": [
              "0"
            ]
          },
          "metadata": {},
          "execution_count": 35
        },
        {
          "output_type": "display_data",
          "data": {
            "text/plain": [
              "<Figure size 432x288 with 1 Axes>"
            ],
            "image/png": "[encoded data removed]"
          },
          "metadata": {
            "needs_background": "light"
          }
        }
      ]
    },
    {
      "cell_type": "code",
      "source": [
        "train_loss_list"
      ],
      "metadata": {
        "colab": {
          "base_uri": "https://localhost:8080/"
        },
        "id": "9RWT2bwTVukq",
        "outputId": "5c2d7582-5521-4242-cf4f-13712c9ddf30"
      },
      "execution_count": null,
      "outputs": [
        {
          "output_type": "execute_result",
          "data": {
            "text/plain": [
              "[1.9199213060605742,\n",
              " 1.467084334802258,\n",
              " 1.3439937977827796,\n",
              " 1.2479048249641438,\n",
              " 1.1958052400470705,\n",
              " 1.161692036984811,\n",
              " 1.115532400996186,\n",
              " 1.0969257379379076,\n",
              " 1.0744996201776411,\n",
              " 1.0521430051295948,\n",
              " 1.021010059872955,\n",
              " 0.9421058187805097,\n",
              " 0.7778306612672732,\n",
              " 0.5689669388517237,\n",
              " 0.4324039070643196,\n",
              " 0.3517173083561643,\n",
              " 0.30992693221076206,\n",
              " 0.27797908772947866,\n",
              " 0.25170066386692286,\n",
              " 0.22442696337860069,\n",
              " 0.21211441392584365,\n",
              " 0.1974749419578286,\n",
              " 0.18185141253301956,\n",
              " 0.17692960739058733,\n",
              " 0.1582444549684993,\n",
              " 0.17329198655308986,\n",
              " 0.1467479129516801,\n",
              " 0.13659741257820326,\n",
              " 0.1229156311168227,\n",
              " 0.10457540091695096]"
            ]
          },
          "metadata": {},
          "execution_count": 36
        }
      ]
    },
    {
      "cell_type": "code",
      "source": [
        "val_loss_list"
      ],
      "metadata": {
        "colab": {
          "base_uri": "https://localhost:8080/"
        },
        "id": "EQN8BNOvVxYR",
        "outputId": "fe4fab6a-90fb-4b29-983c-e5694b69bccd"
      },
      "execution_count": null,
      "outputs": [
        {
          "output_type": "execute_result",
          "data": {
            "text/plain": [
              "[73.623869801085,\n",
              " 84.14376130198914,\n",
              " 109.56781193490055,\n",
              " 72.20524412296564,\n",
              " 73.57685352622062,\n",
              " 72.89602169981917,\n",
              " 69.21428571428571,\n",
              " 72.61030741410488,\n",
              " 62.35171790235081,\n",
              " 65.5994575045208,\n",
              " 63.721518987341774,\n",
              " 71.73236889692586,\n",
              " 56.831826401446655,\n",
              " 44.09493670886076,\n",
              " 33.315551537070526,\n",
              " 29.529837251356238,\n",
              " 26.707956600361662,\n",
              " 25.765822784810126,\n",
              " 23.966546112115733,\n",
              " 24.01627486437613,\n",
              " 22.305605786618443,\n",
              " 20.522603978300182,\n",
              " 20.423146473779386,\n",
              " 17.950271247739604,\n",
              " 20.820976491862567,\n",
              " 21.425858951175407,\n",
              " 16.78481012658228,\n",
              " 16.93399638336347,\n",
              " 17.329113924050635,\n",
              " 16.984629294755877]"
            ]
          },
          "metadata": {},
          "execution_count": 37
        }
      ]
    }
  ]
}
